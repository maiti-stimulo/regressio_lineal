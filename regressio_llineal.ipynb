{
 "metadata": {
  "name": "",
  "signature": "sha256:d2dbb00e82775a083c974879053cfaa420e27399b3b3db07554b28c53a318c08"
 },
 "nbformat": 3,
 "nbformat_minor": 0,
 "worksheets": [
  {
   "cells": [
    {
     "cell_type": "markdown",
     "metadata": {},
     "source": [
      "Q1 Download data   \n",
      "Q2 Load the data (using numpy.loadtxt) and separate the last column (target value, MEDV). \n",
      "Compute the average of the target value and the MSE obtained using it as a constant prediction."
     ]
    },
    {
     "cell_type": "code",
     "collapsed": false,
     "input": [
      "import numpy as np"
     ],
     "language": "python",
     "metadata": {},
     "outputs": [],
     "prompt_number": 4
    },
    {
     "cell_type": "code",
     "collapsed": false,
     "input": [
      "X=np.loadtxt ('./housing.data')"
     ],
     "language": "python",
     "metadata": {},
     "outputs": [],
     "prompt_number": 5
    },
    {
     "cell_type": "code",
     "collapsed": false,
     "input": [
      "print X"
     ],
     "language": "python",
     "metadata": {},
     "outputs": [
      {
       "output_type": "stream",
       "stream": "stdout",
       "text": [
        "[[  6.32000000e-03   1.80000000e+01   2.31000000e+00 ...,   3.96900000e+02\n",
        "    4.98000000e+00   2.40000000e+01]\n",
        " [  2.73100000e-02   0.00000000e+00   7.07000000e+00 ...,   3.96900000e+02\n",
        "    9.14000000e+00   2.16000000e+01]\n",
        " [  2.72900000e-02   0.00000000e+00   7.07000000e+00 ...,   3.92830000e+02\n",
        "    4.03000000e+00   3.47000000e+01]\n",
        " ..., \n",
        " [  6.07600000e-02   0.00000000e+00   1.19300000e+01 ...,   3.96900000e+02\n",
        "    5.64000000e+00   2.39000000e+01]\n",
        " [  1.09590000e-01   0.00000000e+00   1.19300000e+01 ...,   3.93450000e+02\n",
        "    6.48000000e+00   2.20000000e+01]\n",
        " [  4.74100000e-02   0.00000000e+00   1.19300000e+01 ...,   3.96900000e+02\n",
        "    7.88000000e+00   1.19000000e+01]]\n"
       ]
      }
     ],
     "prompt_number": 10
    },
    {
     "cell_type": "code",
     "collapsed": false,
     "input": [
      "Y=X[:,-1] # slicing ultima columna de X, : indica tota la matriu i el -1 indica que no volem la \u00faltima columna\n",
      "print '\\nTemin una matriu amb %d dades' % len(y)"
     ],
     "language": "python",
     "metadata": {},
     "outputs": [
      {
       "ename": "NameError",
       "evalue": "name 'X' is not defined",
       "output_type": "pyerr",
       "traceback": [
        "\u001b[0;31m---------------------------------------------------------------------------\u001b[0m\n\u001b[0;31mNameError\u001b[0m                                 Traceback (most recent call last)",
        "\u001b[0;32m<ipython-input-2-b96343802d0b>\u001b[0m in \u001b[0;36m<module>\u001b[0;34m()\u001b[0m\n\u001b[0;32m----> 1\u001b[0;31m \u001b[0mY\u001b[0m\u001b[0;34m=\u001b[0m\u001b[0mX\u001b[0m\u001b[0;34m[\u001b[0m\u001b[0;34m:\u001b[0m\u001b[0;34m,\u001b[0m\u001b[0;34m-\u001b[0m\u001b[0;36m1\u001b[0m\u001b[0;34m]\u001b[0m \u001b[0;31m# slicing ultima columna de X, : indica tota la matriu i el -1 indica que no volem la \u00faltima columna\u001b[0m\u001b[0;34m\u001b[0m\u001b[0m\n\u001b[0m\u001b[1;32m      2\u001b[0m \u001b[0;32mprint\u001b[0m \u001b[0;34m'\\nTemin una matriu amb %d dades'\u001b[0m \u001b[0;34m%\u001b[0m \u001b[0mlen\u001b[0m\u001b[0;34m(\u001b[0m\u001b[0my\u001b[0m\u001b[0;34m)\u001b[0m\u001b[0;34m\u001b[0m\u001b[0m\n",
        "\u001b[0;31mNameError\u001b[0m: name 'X' is not defined"
       ]
      }
     ],
     "prompt_number": 2
    },
    {
     "cell_type": "code",
     "collapsed": false,
     "input": [
      "Y_mean= np.mean(Y) # aquesta odre ens permet fer la mitjana de dels elements que hem definit com a Y\n",
      "print 'la mitjana de tots els elements \u00e9s =' ,Y_mean"
     ],
     "language": "python",
     "metadata": {},
     "outputs": [
      {
       "ename": "NameError",
       "evalue": "name 'np' is not defined",
       "output_type": "pyerr",
       "traceback": [
        "\u001b[0;31m---------------------------------------------------------------------------\u001b[0m\n\u001b[0;31mNameError\u001b[0m                                 Traceback (most recent call last)",
        "\u001b[0;32m<ipython-input-1-0888ce75f01e>\u001b[0m in \u001b[0;36m<module>\u001b[0;34m()\u001b[0m\n\u001b[0;32m----> 1\u001b[0;31m \u001b[0mY_mean\u001b[0m\u001b[0;34m=\u001b[0m \u001b[0mnp\u001b[0m\u001b[0;34m.\u001b[0m\u001b[0mmean\u001b[0m\u001b[0;34m(\u001b[0m\u001b[0mY\u001b[0m\u001b[0;34m)\u001b[0m \u001b[0;31m# aquesta odre ens permet fer la mitjana de dels elements que hem definit com a Y\u001b[0m\u001b[0;34m\u001b[0m\u001b[0m\n\u001b[0m\u001b[1;32m      2\u001b[0m \u001b[0;32mprint\u001b[0m \u001b[0;34m'la mitjana de tots els elements \u00e9s ='\u001b[0m \u001b[0;34m,\u001b[0m\u001b[0mY_mean\u001b[0m\u001b[0;34m\u001b[0m\u001b[0m\n",
        "\u001b[0;31mNameError\u001b[0m: name 'np' is not defined"
       ]
      }
     ],
     "prompt_number": 1
    },
    {
     "cell_type": "code",
     "collapsed": false,
     "input": [
      "def MSE (y_p,y): # MSE:mean square error\n",
      "    return np.sum ((y-y_p)**2) / len(y)"
     ],
     "language": "python",
     "metadata": {},
     "outputs": [],
     "prompt_number": 10
    },
    {
     "cell_type": "code",
     "collapsed": false,
     "input": [
      "print 'MSE utilitzant la mitjana de les Y', MSE (Y_mean, Y)"
     ],
     "language": "python",
     "metadata": {},
     "outputs": [
      {
       "output_type": "stream",
       "stream": "stdout",
       "text": [
        "MSE utilitzant la mitjana de les Y 84.4195561562\n"
       ]
      }
     ],
     "prompt_number": 13
    },
    {
     "cell_type": "markdown",
     "metadata": {},
     "source": [
      "Q3_a) Split the data in two parts (50%-50%) for training and testing (first half for training, second half for testing)."
     ]
    },
    {
     "cell_type": "code",
     "collapsed": false,
     "input": [
      "# Dividim les dades en dos grups, un grup de train i un grup de test\n",
      "# A tot dos grups hi eliminem la \u00faltima columna\n",
      "n=len (Y)/2\n",
      "trainX=X[:n,:-1]\n",
      "trainY=Y[:n]\n",
      "\n",
      "testX=X[n:,:-1]\n",
      "testY=Y[n:]\n"
     ],
     "language": "python",
     "metadata": {},
     "outputs": [],
     "prompt_number": 13
    },
    {
     "cell_type": "code",
     "collapsed": false,
     "input": [
      "#np.dot serveix per calcular el producte de dos vectors\n",
      "#np.linalg.inv calcula la inversa d'una matriu\n",
      "#np.ones retorna una nova array de la forma dita plena de 1.\n",
      "#theta = (X'*X)^-1*X'*y\n",
      "#MSE = (1/N)*sum((y-X*theta)^2)\n",
      "\n",
      "for i in range(trainX.shape[1]):\n",
      "    #Hint: If you want to select the i-th column of an array, but want it to retain the two dimension, you can do it like that:\n",
      "    #column = data_array[:,i:i+1]\n",
      "    train=np.hstack((np.ones((n, 1)), trainX[:, i:i+1]))  #np.ones retorna una nova array amb una columna de 1.\n",
      "    test=np.hstack((np.ones((n, 1)), testX[:, i:i+1]))  \n",
      "    theta =lstsq (train,trainY)[0]\n",
      "    #np.dot serveix per calcular el producte de dos vectors\n",
      "    MSEtrain=MSE (np.dot(train, theta),trainY)  \n",
      "    MSEtest=MSE (np.dot(test, theta),testY)\n",
      "    \n",
      "    R= 1-MSEtest/np.var(testY)\n",
      "    print i, \"MSE Train: %.3f  MSE test: %.3f R2: %.3f\"%(MSEtrain, MSEtest, R) #%.3f, serveix per indicar el nombre de decimals\n",
      "    print ('------------------------------------------------------------------------------------------------')"
     ],
     "language": "python",
     "metadata": {},
     "outputs": [
      {
       "output_type": "stream",
       "stream": "stdout",
       "text": [
        "0 MSE Train: 65.773  MSE test: 873.517 R2: -8.364\n",
        "1 MSE Train: 62.185  MSE test: 91.934 R2: 0.015\n",
        "2 MSE Train: 60.203  MSE test: 74.746 R2: 0.199\n",
        "3 MSE Train: 69.240  MSE test: 105.204 R2: -0.128\n",
        "4 MSE Train: 61.545  MSE test: 80.160 R2: 0.141\n",
        "5 MSE Train: 15.935  MSE test: 78.056 R2: 0.163\n",
        "6 MSE Train: 61.427  MSE test: 88.955 R2: 0.046\n",
        "7 MSE Train: 68.001  MSE test: 97.463 R2: -0.045\n",
        "8 MSE Train: 69.149  MSE test: 144.905 R2: -0.553\n",
        "9 MSE Train: 65.436  MSE test: 67.517 R2: 0.276\n",
        "10 MSE Train: 59.751  MSE test: 72.507 R2: 0.223\n",
        "11 MSE Train: 66.041  MSE test: 86.450 R2: 0.073\n",
        "12 MSE Train: 34.381  MSE test: 43.344 R2: 0.535\n"
       ]
      }
     ],
     "prompt_number": 30
    },
    {
     "cell_type": "markdown",
     "metadata": {},
     "source": [
      "Q3_b Train a linear regressor model for each variable individually (plus a bias term) and compute the MSE on the training and the testing set. Which variable is the most informative? which one makes the model generalize better? and worse? Compute the coefficient of determination (R^2) for the test set."
     ]
    },
    {
     "cell_type": "code",
     "collapsed": false,
     "input": [
      "#Dividim les dades en dos grups, un per al training i l'altra per fer el testing.\n",
      "\n",
      "# Hem de crear matrius per enmagatzemar les dades obtingudes de cada variable.\n",
      "MSE_Train = []\n",
      "MSE_Test = []\n",
      "theta = []\n",
      "# Python provides for statement to iterate over a list. A for statement executes the specified block of code for every element in a list.\n",
      "# The method len() returns the number of elements in the list.\n",
      "#for i in range(0,len(data[0])-1): \n",
      "\n",
      "#for i in range(0,len(:,-1): # si ho estic fent be, estic fent les columnes de 0 a 13\n",
      "for i in range(trainX.shape[1]):      \n",
      "\n",
      "#info:: Mumpy.reshape(a, newshape, order='C')[source]   Gives a new shape to an array without changing its data.\n",
      "#Hem definit train=np.hstack((np.ones((n, 1)), trainX[:, i:i+1])),aquesta funci\u00f3 es el nostre BIAS\n",
      "Train_X = train.reshape(n,1)\n",
      "#Hem definit test=np.hstack((np.ones((n, 1)), testX[:, i:i+1])) , aquesta funci\u00f3 es el nostre BIAS\n",
      "Test_X = test.reshape (n,1)\n",
      "#Train - Guardem el valor de theta per cada element\n",
      "train_theta.append(lstsq(trainX, len(y)/2, -1)[0])\n",
      "#Train - Guardem el MSE per a cada element\n",
      "train_MSE.append(MSE(len(y)/2, -1),Train_X,theta[i]))\n",
      "#Test - Guardem el MSE per a cada \n",
      "test_MSE.append(MSE(len(y)/2, -1),Test_X,theta[i]))\n",
      "\n",
      "# Respostes exercici Q3_b\n",
      "print '\\nLa variable %d que ens dona m\u00e9s informaci\u00f3, MSE:' % MSE_Train.index(min(MSE_Train)), min(MSE_Train)\n",
      "print '\\nla millor variable \u00e9s el n\u00famero', MSE_Test.index(min(MSE_Test)),', MSE:', min(MSE_Test)\n",
      "print '\\nLa pitjor variable \u00e9s el n\u00famero', MSE_Test.index(max(MSE_Test)),', MSE:', max(MSE_Test)\n",
      "    \n",
      "    "
     ],
     "language": "python",
     "metadata": {},
     "outputs": [
      {
       "ename": "IndentationError",
       "evalue": "expected an indented block (<ipython-input-3-8849b49ca61d>, line 16)",
       "output_type": "pyerr",
       "traceback": [
        "\u001b[0;36m  File \u001b[0;32m\"<ipython-input-3-8849b49ca61d>\"\u001b[0;36m, line \u001b[0;32m16\u001b[0m\n\u001b[0;31m    Train_X = train.reshape(n,1)\u001b[0m\n\u001b[0m          ^\u001b[0m\n\u001b[0;31mIndentationError\u001b[0m\u001b[0;31m:\u001b[0m expected an indented block\n"
       ]
      }
     ],
     "prompt_number": 3
    },
    {
     "cell_type": "code",
     "collapsed": false,
     "input": [],
     "language": "python",
     "metadata": {},
     "outputs": []
    }
   ],
   "metadata": {}
  }
 ]
}